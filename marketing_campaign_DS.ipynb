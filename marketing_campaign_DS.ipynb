{
 "cells": [
  {
   "attachments": {},
   "cell_type": "markdown",
   "metadata": {},
   "source": [
    "## 1. Definição do Problema"
   ]
  },
  {
   "attachments": {},
   "cell_type": "markdown",
   "metadata": {},
   "source": [
    "A Análise da Personalidade do Cliente é uma análise detalhada dos clientes ideais de uma empresa. Ele ajuda uma empresa a entender melhor seus clientes e facilita a modificação de produtos de acordo com as necessidades, comportamentos e preocupações específicas de diferentes tipos de clientes.\n",
    "\n",
    "A análise da personalidade do cliente ajuda uma empresa a modificar seu produto com base em seus clientes-alvo de diferentes tipos de segmentos de clientes. Por exemplo, em vez de gastar dinheiro para comercializar um novo produto para cada cliente no banco de dados da empresa, uma empresa pode analisar qual segmento de cliente tem maior probabilidade de comprar o produto e, então, comercializar o produto apenas naquele segmento específico.\n",
    "\n",
    "Alvo\n",
    "*Necessidade de realizar clustering para resumir os segmentos de clientes.*"
   ]
  },
  {
   "attachments": {},
   "cell_type": "markdown",
   "metadata": {},
   "source": [
    "### 1.1 Conteúdo dos dados "
   ]
  },
  {
   "attachments": {},
   "cell_type": "markdown",
   "metadata": {},
   "source": [
    "People\n",
    "\n",
    "- ID: Identificador exclusivo do cliente\n",
    "- Year_Birth: Ano de nascimento do cliente\n",
    "- Education: nível de educação do cliente\n",
    "- Marital_Status: estado civil do cliente\n",
    "- Income: renda familiar anual do cliente\n",
    "- Kidhome: número de crianças na casa do cliente\n",
    "- Teenhome: número de adolescentes na casa do cliente\n",
    "- Dt_Customer: Data de cadastro do cliente na empresa\n",
    "- Recency: número de dias desde a última compra do cliente\n",
    "- Complain: 1 se o cliente reclamou nos últimos 2 anos, 0 caso contrário\n",
    "\n",
    "Products\n",
    "\n",
    "- MntWines: Valor gasto em vinho nos últimos 2 anos\n",
    "- MntFruits: Valor gasto em frutas nos últimos 2 anos\n",
    "- MntMeatProducts: Valor gasto em carne nos últimos 2 anos\n",
    "- MntFishProducts: Amount spent on peixe in last 2 years\n",
    "- MntSweetProducts: Amount spent on doces in last 2 years\n",
    "- MntGoldProds: Amount spent on ouro in last 2 years\n",
    "\n",
    "Promotion\n",
    "\n",
    "- NumDealsPurchases: Número de compras feitas com desconto\n",
    "- AcceptedCmp1: 1 se o cliente aceitou a oferta na 1ª campanha, 0 caso contrário\n",
    "- AcceptedCmp2: 1 se o cliente aceitou a oferta na 2ª campanha, 0 caso contrário\n",
    "- AcceptedCmp3: 1 se o cliente aceitou a oferta na 3ª campanha, 0 caso contrário\n",
    "- AcceptedCmp4: 1 se o cliente aceitou a oferta na 4ª campanha, 0 caso contrário\n",
    "- AcceptedCmp5: 1 se o cliente aceitou a oferta na 5ª campanha, 0 caso contrário\n",
    "- Response: 1 se o cliente aceitou a oferta na última campanha, 0 caso contrário\n",
    "\n",
    "Place\n",
    "\n",
    "- NumWebPurchases: Número de compras realizadas através do site da empresa\n",
    "- NumCatalogPurchases: Número de compras feitas usando um catálogo\n",
    "- NumStorePurchases: Número de compras feitas diretamente nas lojas\n",
    "- NumWebVisitsMonth: Número de visitas ao site da empresa no último mês\n",
    "\n",
    "\n",
    "Referência: https://www.kaggle.com/datasets/imakash3011/customer-personality-analysis"
   ]
  },
  {
   "attachments": {},
   "cell_type": "markdown",
   "metadata": {},
   "source": [
    "### 2.0 Importando as bibliotecas e carregando os dados"
   ]
  },
  {
   "cell_type": "code",
   "execution_count": 2,
   "metadata": {},
   "outputs": [],
   "source": [
    "import numpy as np\n",
    "import pandas as pd\n",
    "import datetime\n",
    "import matplotlib\n",
    "import matplotlib.pyplot as plt\n",
    "from matplotlib import colors\n",
    "import seaborn as sns\n",
    "from sklearn.preprocessing import LabelEncoder\n",
    "from sklearn.preprocessing import StandardScaler\n",
    "from sklearn.cluster import KMeans\n",
    "import matplotlib.pyplot as plt, numpy as np\n",
    "from mpl_toolkits.mplot3d import Axes3D\n",
    "from sklearn.cluster import AgglomerativeClustering\n",
    "from matplotlib.colors import ListedColormap\n",
    "from sklearn import metrics\n",
    "import warnings\n",
    "import sys\n",
    "if not sys.warnoptions:\n",
    "    warnings.simplefilter(\"ignore\")\n",
    "np.random.seed(42)"
   ]
  },
  {
   "cell_type": "code",
   "execution_count": 3,
   "metadata": {},
   "outputs": [
    {
     "name": "stdout",
     "output_type": "stream",
     "text": [
      "%pylab is deprecated, use %matplotlib inline and import the required libraries.\n",
      "Populating the interactive namespace from numpy and matplotlib\n"
     ]
    }
   ],
   "source": [
    "def jupyter_settings():\n",
    "    %matplotlib inline\n",
    "    %pylab inline\n",
    "    plt.style.use( 'bmh' )\n",
    "    plt.rcParams['figure.figsize'] = [25, 12]\n",
    "    plt.rcParams['font.size'] = 24\n",
    "    pd.options.display.max_columns = None\n",
    "    pd.options.display.max_rows = None\n",
    "    pd.set_option( 'display.expand_frame_repr', False )\n",
    "    sns.set()\n",
    "\n",
    "jupyter_settings()"
   ]
  },
  {
   "attachments": {},
   "cell_type": "markdown",
   "metadata": {},
   "source": [
    "### 1.0 Carregando o Dataset"
   ]
  },
  {
   "cell_type": "code",
   "execution_count": 4,
   "metadata": {},
   "outputs": [
    {
     "data": {
      "text/html": [
       "<div>\n",
       "<style scoped>\n",
       "    .dataframe tbody tr th:only-of-type {\n",
       "        vertical-align: middle;\n",
       "    }\n",
       "\n",
       "    .dataframe tbody tr th {\n",
       "        vertical-align: top;\n",
       "    }\n",
       "\n",
       "    .dataframe thead th {\n",
       "        text-align: right;\n",
       "    }\n",
       "</style>\n",
       "<table border=\"1\" class=\"dataframe\">\n",
       "  <thead>\n",
       "    <tr style=\"text-align: right;\">\n",
       "      <th></th>\n",
       "      <th>ID</th>\n",
       "      <th>Year_Birth</th>\n",
       "      <th>Education</th>\n",
       "      <th>Marital_Status</th>\n",
       "      <th>Income</th>\n",
       "      <th>Kidhome</th>\n",
       "      <th>Teenhome</th>\n",
       "      <th>Dt_Customer</th>\n",
       "      <th>Recency</th>\n",
       "      <th>MntWines</th>\n",
       "      <th>MntFruits</th>\n",
       "      <th>MntMeatProducts</th>\n",
       "      <th>MntFishProducts</th>\n",
       "      <th>MntSweetProducts</th>\n",
       "      <th>MntGoldProds</th>\n",
       "      <th>NumDealsPurchases</th>\n",
       "      <th>NumWebPurchases</th>\n",
       "      <th>NumCatalogPurchases</th>\n",
       "      <th>NumStorePurchases</th>\n",
       "      <th>NumWebVisitsMonth</th>\n",
       "      <th>AcceptedCmp3</th>\n",
       "      <th>AcceptedCmp4</th>\n",
       "      <th>AcceptedCmp5</th>\n",
       "      <th>AcceptedCmp1</th>\n",
       "      <th>AcceptedCmp2</th>\n",
       "      <th>Complain</th>\n",
       "      <th>Z_CostContact</th>\n",
       "      <th>Z_Revenue</th>\n",
       "      <th>Response</th>\n",
       "    </tr>\n",
       "  </thead>\n",
       "  <tbody>\n",
       "    <tr>\n",
       "      <th>0</th>\n",
       "      <td>5524</td>\n",
       "      <td>1957</td>\n",
       "      <td>Graduation</td>\n",
       "      <td>Single</td>\n",
       "      <td>58138.0</td>\n",
       "      <td>0</td>\n",
       "      <td>0</td>\n",
       "      <td>2012-04-09</td>\n",
       "      <td>58</td>\n",
       "      <td>635</td>\n",
       "      <td>88</td>\n",
       "      <td>546</td>\n",
       "      <td>172</td>\n",
       "      <td>88</td>\n",
       "      <td>88</td>\n",
       "      <td>3</td>\n",
       "      <td>8</td>\n",
       "      <td>10</td>\n",
       "      <td>4</td>\n",
       "      <td>7</td>\n",
       "      <td>0</td>\n",
       "      <td>0</td>\n",
       "      <td>0</td>\n",
       "      <td>0</td>\n",
       "      <td>0</td>\n",
       "      <td>0</td>\n",
       "      <td>3</td>\n",
       "      <td>11</td>\n",
       "      <td>1</td>\n",
       "    </tr>\n",
       "    <tr>\n",
       "      <th>1</th>\n",
       "      <td>2174</td>\n",
       "      <td>1954</td>\n",
       "      <td>Graduation</td>\n",
       "      <td>Single</td>\n",
       "      <td>46344.0</td>\n",
       "      <td>1</td>\n",
       "      <td>1</td>\n",
       "      <td>2014-08-03</td>\n",
       "      <td>38</td>\n",
       "      <td>11</td>\n",
       "      <td>1</td>\n",
       "      <td>6</td>\n",
       "      <td>2</td>\n",
       "      <td>1</td>\n",
       "      <td>6</td>\n",
       "      <td>2</td>\n",
       "      <td>1</td>\n",
       "      <td>1</td>\n",
       "      <td>2</td>\n",
       "      <td>5</td>\n",
       "      <td>0</td>\n",
       "      <td>0</td>\n",
       "      <td>0</td>\n",
       "      <td>0</td>\n",
       "      <td>0</td>\n",
       "      <td>0</td>\n",
       "      <td>3</td>\n",
       "      <td>11</td>\n",
       "      <td>0</td>\n",
       "    </tr>\n",
       "  </tbody>\n",
       "</table>\n",
       "</div>"
      ],
      "text/plain": [
       "     ID  Year_Birth   Education Marital_Status   Income  Kidhome  Teenhome Dt_Customer  Recency  MntWines  MntFruits  MntMeatProducts  MntFishProducts  MntSweetProducts  MntGoldProds  NumDealsPurchases  NumWebPurchases  NumCatalogPurchases  NumStorePurchases  NumWebVisitsMonth  AcceptedCmp3  AcceptedCmp4  AcceptedCmp5  AcceptedCmp1  AcceptedCmp2  Complain  Z_CostContact  Z_Revenue  Response\n",
       "0  5524        1957  Graduation         Single  58138.0        0         0  2012-04-09       58       635         88              546              172                88            88                  3                8                   10                  4                  7             0             0             0             0             0         0              3         11         1\n",
       "1  2174        1954  Graduation         Single  46344.0        1         1  2014-08-03       38        11          1                6                2                 1             6                  2                1                    1                  2                  5             0             0             0             0             0         0              3         11         0"
      ]
     },
     "execution_count": 4,
     "metadata": {},
     "output_type": "execute_result"
    }
   ],
   "source": [
    "pd.set_option('display.max_columns', None)\n",
    "df = pd.read_csv('marketing_campaign.csv', sep = '\\t', parse_dates=['Dt_Customer'])\n",
    "df.head(2)"
   ]
  },
  {
   "cell_type": "code",
   "execution_count": 5,
   "metadata": {},
   "outputs": [
    {
     "name": "stdout",
     "output_type": "stream",
     "text": [
      "<class 'pandas.core.frame.DataFrame'>\n",
      "RangeIndex: 2240 entries, 0 to 2239\n",
      "Data columns (total 29 columns):\n",
      " #   Column               Non-Null Count  Dtype         \n",
      "---  ------               --------------  -----         \n",
      " 0   ID                   2240 non-null   int64         \n",
      " 1   Year_Birth           2240 non-null   int64         \n",
      " 2   Education            2240 non-null   object        \n",
      " 3   Marital_Status       2240 non-null   object        \n",
      " 4   Income               2216 non-null   float64       \n",
      " 5   Kidhome              2240 non-null   int64         \n",
      " 6   Teenhome             2240 non-null   int64         \n",
      " 7   Dt_Customer          2240 non-null   datetime64[ns]\n",
      " 8   Recency              2240 non-null   int64         \n",
      " 9   MntWines             2240 non-null   int64         \n",
      " 10  MntFruits            2240 non-null   int64         \n",
      " 11  MntMeatProducts      2240 non-null   int64         \n",
      " 12  MntFishProducts      2240 non-null   int64         \n",
      " 13  MntSweetProducts     2240 non-null   int64         \n",
      " 14  MntGoldProds         2240 non-null   int64         \n",
      " 15  NumDealsPurchases    2240 non-null   int64         \n",
      " 16  NumWebPurchases      2240 non-null   int64         \n",
      " 17  NumCatalogPurchases  2240 non-null   int64         \n",
      " 18  NumStorePurchases    2240 non-null   int64         \n",
      " 19  NumWebVisitsMonth    2240 non-null   int64         \n",
      " 20  AcceptedCmp3         2240 non-null   int64         \n",
      " 21  AcceptedCmp4         2240 non-null   int64         \n",
      " 22  AcceptedCmp5         2240 non-null   int64         \n",
      " 23  AcceptedCmp1         2240 non-null   int64         \n",
      " 24  AcceptedCmp2         2240 non-null   int64         \n",
      " 25  Complain             2240 non-null   int64         \n",
      " 26  Z_CostContact        2240 non-null   int64         \n",
      " 27  Z_Revenue            2240 non-null   int64         \n",
      " 28  Response             2240 non-null   int64         \n",
      "dtypes: datetime64[ns](1), float64(1), int64(25), object(2)\n",
      "memory usage: 507.6+ KB\n"
     ]
    }
   ],
   "source": [
    "df.info()"
   ]
  },
  {
   "cell_type": "code",
   "execution_count": 6,
   "metadata": {},
   "outputs": [
    {
     "name": "stdout",
     "output_type": "stream",
     "text": [
      "A data de inscrição do cliente mais recente nos registros: 2014-12-06 00:00:00\n",
      "A data de inscrição do cliente mais antigo nos registros: 2012-01-08 00:00:00\n"
     ]
    }
   ],
   "source": [
    "print(\"A data de inscrição do cliente mais recente nos registros:\",df['Dt_Customer'].max())\n",
    "print(\"A data de inscrição do cliente mais antigo nos registros:\",df['Dt_Customer'].min())"
   ]
  },
  {
   "attachments": {},
   "cell_type": "markdown",
   "metadata": {},
   "source": [
    "### 2.1 Descobrindo a quantidade de dados Nulos em cada coluna"
   ]
  },
  {
   "cell_type": "code",
   "execution_count": 7,
   "metadata": {},
   "outputs": [
    {
     "data": {
      "text/plain": [
       "ID                      0\n",
       "Year_Birth              0\n",
       "Education               0\n",
       "Marital_Status          0\n",
       "Income                 24\n",
       "Kidhome                 0\n",
       "Teenhome                0\n",
       "Dt_Customer             0\n",
       "Recency                 0\n",
       "MntWines                0\n",
       "MntFruits               0\n",
       "MntMeatProducts         0\n",
       "MntFishProducts         0\n",
       "MntSweetProducts        0\n",
       "MntGoldProds            0\n",
       "NumDealsPurchases       0\n",
       "NumWebPurchases         0\n",
       "NumCatalogPurchases     0\n",
       "NumStorePurchases       0\n",
       "NumWebVisitsMonth       0\n",
       "AcceptedCmp3            0\n",
       "AcceptedCmp4            0\n",
       "AcceptedCmp5            0\n",
       "AcceptedCmp1            0\n",
       "AcceptedCmp2            0\n",
       "Complain                0\n",
       "Z_CostContact           0\n",
       "Z_Revenue               0\n",
       "Response                0\n",
       "dtype: int64"
      ]
     },
     "execution_count": 7,
     "metadata": {},
     "output_type": "execute_result"
    }
   ],
   "source": [
    "#Existem 24 registros nulos sobre a renda anual.\n",
    "df.isna().sum()"
   ]
  },
  {
   "attachments": {},
   "cell_type": "markdown",
   "metadata": {},
   "source": [
    "Para preencher esses valores nulos eu utilizarei uma técnica de preenchimento com valores não existentes na base, é uma das opções viáveis para não perder os dados e ao mesmo tempo não generalizar utilizando média ou mediana."
   ]
  },
  {
   "cell_type": "code",
   "execution_count": 8,
   "metadata": {},
   "outputs": [],
   "source": [
    "next_num = df['Income'].min() + 500\n",
    "df['Income'] = df['Income'].fillna(next_num)"
   ]
  },
  {
   "attachments": {},
   "cell_type": "markdown",
   "metadata": {},
   "source": [
    "### 2.2 Tratando o tipo de dado de cada coluna"
   ]
  },
  {
   "attachments": {},
   "cell_type": "markdown",
   "metadata": {},
   "source": [
    "Para agilizar o tratamento, todas as colunas que só possuem duas e são variáveis numéricas serão transformadas em categóricas, pois são colunas booleanas"
   ]
  },
  {
   "cell_type": "code",
   "execution_count": 9,
   "metadata": {},
   "outputs": [],
   "source": [
    "for col in df.columns:\n",
    "    # Verificar se a coluna tem apenas dois valores exclusivos\n",
    "    if df[col].nunique() == 2:\n",
    "        # Verificar se a coluna é numérica\n",
    "        if pd.api.types.is_numeric_dtype(df[col]):\n",
    "            # Converter a coluna em categórica\n",
    "            df[col] = df[col].astype(object)"
   ]
  },
  {
   "attachments": {},
   "cell_type": "markdown",
   "metadata": {},
   "source": [
    "### 3.0 Análise Descritiva dos Dados"
   ]
  },
  {
   "cell_type": "code",
   "execution_count": 10,
   "metadata": {},
   "outputs": [],
   "source": [
    "df1 = df.copy()"
   ]
  },
  {
   "cell_type": "code",
   "execution_count": 11,
   "metadata": {},
   "outputs": [],
   "source": [
    "num_attributes = df1.select_dtypes( include=['int64', 'float64'] )\n",
    "cat_attributes = df1.select_dtypes( exclude=['int64', 'float64','datetime64[ns]'] )"
   ]
  },
  {
   "cell_type": "code",
   "execution_count": 12,
   "metadata": {},
   "outputs": [
    {
     "data": {
      "text/html": [
       "<div>\n",
       "<style scoped>\n",
       "    .dataframe tbody tr th:only-of-type {\n",
       "        vertical-align: middle;\n",
       "    }\n",
       "\n",
       "    .dataframe tbody tr th {\n",
       "        vertical-align: top;\n",
       "    }\n",
       "\n",
       "    .dataframe thead th {\n",
       "        text-align: right;\n",
       "    }\n",
       "</style>\n",
       "<table border=\"1\" class=\"dataframe\">\n",
       "  <thead>\n",
       "    <tr style=\"text-align: right;\">\n",
       "      <th></th>\n",
       "      <th>ID</th>\n",
       "      <th>Year_Birth</th>\n",
       "      <th>Income</th>\n",
       "      <th>Kidhome</th>\n",
       "      <th>Teenhome</th>\n",
       "      <th>Recency</th>\n",
       "      <th>MntWines</th>\n",
       "      <th>MntFruits</th>\n",
       "      <th>MntMeatProducts</th>\n",
       "      <th>MntFishProducts</th>\n",
       "      <th>MntSweetProducts</th>\n",
       "      <th>MntGoldProds</th>\n",
       "      <th>NumDealsPurchases</th>\n",
       "      <th>NumWebPurchases</th>\n",
       "      <th>NumCatalogPurchases</th>\n",
       "      <th>NumStorePurchases</th>\n",
       "      <th>NumWebVisitsMonth</th>\n",
       "      <th>Z_CostContact</th>\n",
       "      <th>Z_Revenue</th>\n",
       "    </tr>\n",
       "  </thead>\n",
       "  <tbody>\n",
       "    <tr>\n",
       "      <th>count</th>\n",
       "      <td>2240.000000</td>\n",
       "      <td>2240.000000</td>\n",
       "      <td>2240.000000</td>\n",
       "      <td>2240.000000</td>\n",
       "      <td>2240.000000</td>\n",
       "      <td>2240.000000</td>\n",
       "      <td>2240.000000</td>\n",
       "      <td>2240.000000</td>\n",
       "      <td>2240.000000</td>\n",
       "      <td>2240.000000</td>\n",
       "      <td>2240.000000</td>\n",
       "      <td>2240.000000</td>\n",
       "      <td>2240.000000</td>\n",
       "      <td>2240.000000</td>\n",
       "      <td>2240.000000</td>\n",
       "      <td>2240.000000</td>\n",
       "      <td>2240.000000</td>\n",
       "      <td>2240.0</td>\n",
       "      <td>2240.0</td>\n",
       "    </tr>\n",
       "    <tr>\n",
       "      <th>mean</th>\n",
       "      <td>5592.159821</td>\n",
       "      <td>1968.805804</td>\n",
       "      <td>51711.352232</td>\n",
       "      <td>0.444196</td>\n",
       "      <td>0.506250</td>\n",
       "      <td>49.109375</td>\n",
       "      <td>303.935714</td>\n",
       "      <td>26.302232</td>\n",
       "      <td>166.950000</td>\n",
       "      <td>37.525446</td>\n",
       "      <td>27.062946</td>\n",
       "      <td>44.021875</td>\n",
       "      <td>2.325000</td>\n",
       "      <td>4.084821</td>\n",
       "      <td>2.662054</td>\n",
       "      <td>5.790179</td>\n",
       "      <td>5.316518</td>\n",
       "      <td>3.0</td>\n",
       "      <td>11.0</td>\n",
       "    </tr>\n",
       "    <tr>\n",
       "      <th>std</th>\n",
       "      <td>3246.662198</td>\n",
       "      <td>11.984069</td>\n",
       "      <td>25562.084099</td>\n",
       "      <td>0.538398</td>\n",
       "      <td>0.544538</td>\n",
       "      <td>28.962453</td>\n",
       "      <td>336.597393</td>\n",
       "      <td>39.773434</td>\n",
       "      <td>225.715373</td>\n",
       "      <td>54.628979</td>\n",
       "      <td>41.280498</td>\n",
       "      <td>52.167439</td>\n",
       "      <td>1.932238</td>\n",
       "      <td>2.778714</td>\n",
       "      <td>2.923101</td>\n",
       "      <td>3.250958</td>\n",
       "      <td>2.426645</td>\n",
       "      <td>0.0</td>\n",
       "      <td>0.0</td>\n",
       "    </tr>\n",
       "    <tr>\n",
       "      <th>min</th>\n",
       "      <td>0.000000</td>\n",
       "      <td>1893.000000</td>\n",
       "      <td>1730.000000</td>\n",
       "      <td>0.000000</td>\n",
       "      <td>0.000000</td>\n",
       "      <td>0.000000</td>\n",
       "      <td>0.000000</td>\n",
       "      <td>0.000000</td>\n",
       "      <td>0.000000</td>\n",
       "      <td>0.000000</td>\n",
       "      <td>0.000000</td>\n",
       "      <td>0.000000</td>\n",
       "      <td>0.000000</td>\n",
       "      <td>0.000000</td>\n",
       "      <td>0.000000</td>\n",
       "      <td>0.000000</td>\n",
       "      <td>0.000000</td>\n",
       "      <td>3.0</td>\n",
       "      <td>11.0</td>\n",
       "    </tr>\n",
       "    <tr>\n",
       "      <th>25%</th>\n",
       "      <td>2828.250000</td>\n",
       "      <td>1959.000000</td>\n",
       "      <td>34722.000000</td>\n",
       "      <td>0.000000</td>\n",
       "      <td>0.000000</td>\n",
       "      <td>24.000000</td>\n",
       "      <td>23.750000</td>\n",
       "      <td>1.000000</td>\n",
       "      <td>16.000000</td>\n",
       "      <td>3.000000</td>\n",
       "      <td>1.000000</td>\n",
       "      <td>9.000000</td>\n",
       "      <td>1.000000</td>\n",
       "      <td>2.000000</td>\n",
       "      <td>0.000000</td>\n",
       "      <td>3.000000</td>\n",
       "      <td>3.000000</td>\n",
       "      <td>3.0</td>\n",
       "      <td>11.0</td>\n",
       "    </tr>\n",
       "    <tr>\n",
       "      <th>50%</th>\n",
       "      <td>5458.500000</td>\n",
       "      <td>1970.000000</td>\n",
       "      <td>51075.000000</td>\n",
       "      <td>0.000000</td>\n",
       "      <td>0.000000</td>\n",
       "      <td>49.000000</td>\n",
       "      <td>173.500000</td>\n",
       "      <td>8.000000</td>\n",
       "      <td>67.000000</td>\n",
       "      <td>12.000000</td>\n",
       "      <td>8.000000</td>\n",
       "      <td>24.000000</td>\n",
       "      <td>2.000000</td>\n",
       "      <td>4.000000</td>\n",
       "      <td>2.000000</td>\n",
       "      <td>5.000000</td>\n",
       "      <td>6.000000</td>\n",
       "      <td>3.0</td>\n",
       "      <td>11.0</td>\n",
       "    </tr>\n",
       "    <tr>\n",
       "      <th>75%</th>\n",
       "      <td>8427.750000</td>\n",
       "      <td>1977.000000</td>\n",
       "      <td>68289.750000</td>\n",
       "      <td>1.000000</td>\n",
       "      <td>1.000000</td>\n",
       "      <td>74.000000</td>\n",
       "      <td>504.250000</td>\n",
       "      <td>33.000000</td>\n",
       "      <td>232.000000</td>\n",
       "      <td>50.000000</td>\n",
       "      <td>33.000000</td>\n",
       "      <td>56.000000</td>\n",
       "      <td>3.000000</td>\n",
       "      <td>6.000000</td>\n",
       "      <td>4.000000</td>\n",
       "      <td>8.000000</td>\n",
       "      <td>7.000000</td>\n",
       "      <td>3.0</td>\n",
       "      <td>11.0</td>\n",
       "    </tr>\n",
       "    <tr>\n",
       "      <th>max</th>\n",
       "      <td>11191.000000</td>\n",
       "      <td>1996.000000</td>\n",
       "      <td>666666.000000</td>\n",
       "      <td>2.000000</td>\n",
       "      <td>2.000000</td>\n",
       "      <td>99.000000</td>\n",
       "      <td>1493.000000</td>\n",
       "      <td>199.000000</td>\n",
       "      <td>1725.000000</td>\n",
       "      <td>259.000000</td>\n",
       "      <td>263.000000</td>\n",
       "      <td>362.000000</td>\n",
       "      <td>15.000000</td>\n",
       "      <td>27.000000</td>\n",
       "      <td>28.000000</td>\n",
       "      <td>13.000000</td>\n",
       "      <td>20.000000</td>\n",
       "      <td>3.0</td>\n",
       "      <td>11.0</td>\n",
       "    </tr>\n",
       "  </tbody>\n",
       "</table>\n",
       "</div>"
      ],
      "text/plain": [
       "                 ID   Year_Birth         Income      Kidhome     Teenhome      Recency     MntWines    MntFruits  MntMeatProducts  MntFishProducts  MntSweetProducts  MntGoldProds  NumDealsPurchases  NumWebPurchases  NumCatalogPurchases  NumStorePurchases  NumWebVisitsMonth  Z_CostContact  Z_Revenue\n",
       "count   2240.000000  2240.000000    2240.000000  2240.000000  2240.000000  2240.000000  2240.000000  2240.000000      2240.000000      2240.000000       2240.000000   2240.000000        2240.000000      2240.000000          2240.000000        2240.000000        2240.000000         2240.0     2240.0\n",
       "mean    5592.159821  1968.805804   51711.352232     0.444196     0.506250    49.109375   303.935714    26.302232       166.950000        37.525446         27.062946     44.021875           2.325000         4.084821             2.662054           5.790179           5.316518            3.0       11.0\n",
       "std     3246.662198    11.984069   25562.084099     0.538398     0.544538    28.962453   336.597393    39.773434       225.715373        54.628979         41.280498     52.167439           1.932238         2.778714             2.923101           3.250958           2.426645            0.0        0.0\n",
       "min        0.000000  1893.000000    1730.000000     0.000000     0.000000     0.000000     0.000000     0.000000         0.000000         0.000000          0.000000      0.000000           0.000000         0.000000             0.000000           0.000000           0.000000            3.0       11.0\n",
       "25%     2828.250000  1959.000000   34722.000000     0.000000     0.000000    24.000000    23.750000     1.000000        16.000000         3.000000          1.000000      9.000000           1.000000         2.000000             0.000000           3.000000           3.000000            3.0       11.0\n",
       "50%     5458.500000  1970.000000   51075.000000     0.000000     0.000000    49.000000   173.500000     8.000000        67.000000        12.000000          8.000000     24.000000           2.000000         4.000000             2.000000           5.000000           6.000000            3.0       11.0\n",
       "75%     8427.750000  1977.000000   68289.750000     1.000000     1.000000    74.000000   504.250000    33.000000       232.000000        50.000000         33.000000     56.000000           3.000000         6.000000             4.000000           8.000000           7.000000            3.0       11.0\n",
       "max    11191.000000  1996.000000  666666.000000     2.000000     2.000000    99.000000  1493.000000   199.000000      1725.000000       259.000000        263.000000    362.000000          15.000000        27.000000            28.000000          13.000000          20.000000            3.0       11.0"
      ]
     },
     "execution_count": 12,
     "metadata": {},
     "output_type": "execute_result"
    }
   ],
   "source": [
    "num_attributes.describe()"
   ]
  },
  {
   "cell_type": "code",
   "execution_count": 13,
   "metadata": {},
   "outputs": [
    {
     "data": {
      "text/html": [
       "<div>\n",
       "<style scoped>\n",
       "    .dataframe tbody tr th:only-of-type {\n",
       "        vertical-align: middle;\n",
       "    }\n",
       "\n",
       "    .dataframe tbody tr th {\n",
       "        vertical-align: top;\n",
       "    }\n",
       "\n",
       "    .dataframe thead th {\n",
       "        text-align: right;\n",
       "    }\n",
       "</style>\n",
       "<table border=\"1\" class=\"dataframe\">\n",
       "  <thead>\n",
       "    <tr style=\"text-align: right;\">\n",
       "      <th></th>\n",
       "      <th>Education</th>\n",
       "      <th>Marital_Status</th>\n",
       "      <th>AcceptedCmp3</th>\n",
       "      <th>AcceptedCmp4</th>\n",
       "      <th>AcceptedCmp5</th>\n",
       "      <th>AcceptedCmp1</th>\n",
       "      <th>AcceptedCmp2</th>\n",
       "      <th>Complain</th>\n",
       "      <th>Response</th>\n",
       "    </tr>\n",
       "  </thead>\n",
       "  <tbody>\n",
       "    <tr>\n",
       "      <th>count</th>\n",
       "      <td>2240</td>\n",
       "      <td>2240</td>\n",
       "      <td>2240</td>\n",
       "      <td>2240</td>\n",
       "      <td>2240</td>\n",
       "      <td>2240</td>\n",
       "      <td>2240</td>\n",
       "      <td>2240</td>\n",
       "      <td>2240</td>\n",
       "    </tr>\n",
       "    <tr>\n",
       "      <th>unique</th>\n",
       "      <td>5</td>\n",
       "      <td>8</td>\n",
       "      <td>2</td>\n",
       "      <td>2</td>\n",
       "      <td>2</td>\n",
       "      <td>2</td>\n",
       "      <td>2</td>\n",
       "      <td>2</td>\n",
       "      <td>2</td>\n",
       "    </tr>\n",
       "    <tr>\n",
       "      <th>top</th>\n",
       "      <td>Graduation</td>\n",
       "      <td>Married</td>\n",
       "      <td>0</td>\n",
       "      <td>0</td>\n",
       "      <td>0</td>\n",
       "      <td>0</td>\n",
       "      <td>0</td>\n",
       "      <td>0</td>\n",
       "      <td>0</td>\n",
       "    </tr>\n",
       "    <tr>\n",
       "      <th>freq</th>\n",
       "      <td>1127</td>\n",
       "      <td>864</td>\n",
       "      <td>2077</td>\n",
       "      <td>2073</td>\n",
       "      <td>2077</td>\n",
       "      <td>2096</td>\n",
       "      <td>2210</td>\n",
       "      <td>2219</td>\n",
       "      <td>1906</td>\n",
       "    </tr>\n",
       "  </tbody>\n",
       "</table>\n",
       "</div>"
      ],
      "text/plain": [
       "         Education Marital_Status  AcceptedCmp3  AcceptedCmp4  AcceptedCmp5  AcceptedCmp1  AcceptedCmp2  Complain  Response\n",
       "count         2240           2240          2240          2240          2240          2240          2240      2240      2240\n",
       "unique           5              8             2             2             2             2             2         2         2\n",
       "top     Graduation        Married             0             0             0             0             0         0         0\n",
       "freq          1127            864          2077          2073          2077          2096          2210      2219      1906"
      ]
     },
     "execution_count": 13,
     "metadata": {},
     "output_type": "execute_result"
    }
   ],
   "source": [
    "cat_attributes.describe()"
   ]
  },
  {
   "attachments": {},
   "cell_type": "markdown",
   "metadata": {},
   "source": [
    "### 4.0 Feature Engineering"
   ]
  },
  {
   "cell_type": "code",
   "execution_count": 14,
   "metadata": {},
   "outputs": [],
   "source": [
    "#Criar uma coluna de idade para cada pessoa\n",
    "from datetime import date\n",
    "df1['age'] = date.today().year - df1['Year_Birth']\n",
    "\n",
    "#Criando o total de gastos\n",
    "df1[\"Spent\"] = df1[\"MntWines\"]+ df1[\"MntFruits\"]+ df1[\"MntMeatProducts\"]+ df1[\"MntFishProducts\"]+ df1[\"MntSweetProducts\"]+ df1[\"MntGoldProds\"]"
   ]
  },
  {
   "attachments": {},
   "cell_type": "markdown",
   "metadata": {},
   "source": [
    "### 5.0 Pré-processamento dos dados"
   ]
  },
  {
   "cell_type": "code",
   "execution_count": 15,
   "metadata": {},
   "outputs": [],
   "source": [
    "df1['Income'] = df1['Income'].astype('int64')"
   ]
  },
  {
   "cell_type": "code",
   "execution_count": 16,
   "metadata": {},
   "outputs": [],
   "source": [
    "df1 = df1.drop('Dt_Customer',axis = 1)"
   ]
  },
  {
   "attachments": {},
   "cell_type": "markdown",
   "metadata": {},
   "source": [
    "### 5.1 Pipeline"
   ]
  },
  {
   "cell_type": "code",
   "execution_count": 17,
   "metadata": {},
   "outputs": [],
   "source": [
    "from sklearn.pipeline import Pipeline\n",
    "from sklearn.compose import ColumnTransformer\n",
    "from sklearn.preprocessing import  OneHotEncoder, StandardScaler, RobustScaler,LabelEncoder\n",
    "from sklearn.model_selection import KFold\n",
    "from sklearn.cluster import KMeans\n",
    "\n",
    "variaveis_numericas = df1.select_dtypes( include=['int64', 'float64'] ).columns\n",
    "variaveis_categoricas = df1.select_dtypes( exclude=['int64', 'float64','datetime64[ns]'] ).columns\n",
    "\n",
    "pipeline_categoricas = Pipeline([\n",
    "    ('encoder', OneHotEncoder(sparse=False, handle_unknown='ignore'))\n",
    "])\n",
    "\n",
    "# Tratamento para numéricas\n",
    "pipeline_numericas = Pipeline([\n",
    "    ('scaler', StandardScaler())\n",
    "])\n",
    "\n",
    "\n",
    "t = [('str_categoricas', pipeline_categoricas, variaveis_categoricas),\n",
    "     ('int_numericas', pipeline_numericas, variaveis_numericas)]\n",
    "\n",
    "preprocessor = ColumnTransformer(transformers=t)\n",
    "X_transformed = preprocessor.fit_transform(df1)"
   ]
  },
  {
   "attachments": {},
   "cell_type": "markdown",
   "metadata": {},
   "source": [
    "Trazendo um DataFrame após o pipeline de pré-processamento"
   ]
  },
  {
   "cell_type": "code",
   "execution_count": 18,
   "metadata": {},
   "outputs": [],
   "source": [
    "# Obtém os nomes das colunas do DataFrame preprocessado\n",
    "categorical_feature_names = preprocessor.named_transformers_['str_categoricas'].named_steps['encoder'].get_feature_names_out(variaveis_categoricas)\n",
    "numeric_feature_names = variaveis_numericas\n",
    "feature_names = list(categorical_feature_names) + list(numeric_feature_names)\n",
    "\n",
    "# Cria um DataFrame a partir do array Numpy preprocessado\n",
    "df_preprocessado = pd.DataFrame(X_transformed, columns=feature_names)"
   ]
  },
  {
   "attachments": {},
   "cell_type": "markdown",
   "metadata": {},
   "source": [
    "Após o processo de pré-processamento, é importante avaliar como ficou o nosso conjunto de dados. Utilizando a técnica de standard scaler, as variáveis numéricas foram trazidas para uma escala parecida, o que é importante para evitar que variáveis com escalas diferentes tenham impacto desproporcional no modelo de aprendizado de máquina.\n",
    "\n",
    "Já as variáveis categóricas foram transformadas em numéricas utilizando a técnica de one hot encoding. Essa técnica permite que as variáveis categóricas sejam representadas em forma de variáveis binárias, o que é útil para que o modelo de aprendizado de máquina possa interpretar corretamente essas variáveis.\n",
    "\n",
    "Com essas transformações, o nosso conjunto de dados está mais preparado para ser utilizado em modelos de aprendizado de máquina. Além disso, as transformações podem ser aplicadas de forma padronizada a novos conjuntos de dados utilizando o pipeline e o column transformer, o que torna o processo mais eficiente e menos propenso a erros."
   ]
  },
  {
   "cell_type": "code",
   "execution_count": 19,
   "metadata": {},
   "outputs": [
    {
     "data": {
      "text/html": [
       "<div>\n",
       "<style scoped>\n",
       "    .dataframe tbody tr th:only-of-type {\n",
       "        vertical-align: middle;\n",
       "    }\n",
       "\n",
       "    .dataframe tbody tr th {\n",
       "        vertical-align: top;\n",
       "    }\n",
       "\n",
       "    .dataframe thead th {\n",
       "        text-align: right;\n",
       "    }\n",
       "</style>\n",
       "<table border=\"1\" class=\"dataframe\">\n",
       "  <thead>\n",
       "    <tr style=\"text-align: right;\">\n",
       "      <th></th>\n",
       "      <th>Education_2n Cycle</th>\n",
       "      <th>Education_Basic</th>\n",
       "      <th>Education_Graduation</th>\n",
       "      <th>Education_Master</th>\n",
       "      <th>Education_PhD</th>\n",
       "      <th>Marital_Status_Absurd</th>\n",
       "      <th>Marital_Status_Alone</th>\n",
       "      <th>Marital_Status_Divorced</th>\n",
       "      <th>Marital_Status_Married</th>\n",
       "      <th>Marital_Status_Single</th>\n",
       "      <th>Marital_Status_Together</th>\n",
       "      <th>Marital_Status_Widow</th>\n",
       "      <th>Marital_Status_YOLO</th>\n",
       "      <th>AcceptedCmp3_0</th>\n",
       "      <th>AcceptedCmp3_1</th>\n",
       "      <th>AcceptedCmp4_0</th>\n",
       "      <th>AcceptedCmp4_1</th>\n",
       "      <th>AcceptedCmp5_0</th>\n",
       "      <th>AcceptedCmp5_1</th>\n",
       "      <th>AcceptedCmp1_0</th>\n",
       "      <th>AcceptedCmp1_1</th>\n",
       "      <th>AcceptedCmp2_0</th>\n",
       "      <th>AcceptedCmp2_1</th>\n",
       "      <th>Complain_0</th>\n",
       "      <th>Complain_1</th>\n",
       "      <th>Response_0</th>\n",
       "      <th>Response_1</th>\n",
       "      <th>ID</th>\n",
       "      <th>Year_Birth</th>\n",
       "      <th>Income</th>\n",
       "      <th>Kidhome</th>\n",
       "      <th>Teenhome</th>\n",
       "      <th>Recency</th>\n",
       "      <th>MntWines</th>\n",
       "      <th>MntFruits</th>\n",
       "      <th>MntMeatProducts</th>\n",
       "      <th>MntFishProducts</th>\n",
       "      <th>MntSweetProducts</th>\n",
       "      <th>MntGoldProds</th>\n",
       "      <th>NumDealsPurchases</th>\n",
       "      <th>NumWebPurchases</th>\n",
       "      <th>NumCatalogPurchases</th>\n",
       "      <th>NumStorePurchases</th>\n",
       "      <th>NumWebVisitsMonth</th>\n",
       "      <th>Z_CostContact</th>\n",
       "      <th>Z_Revenue</th>\n",
       "      <th>age</th>\n",
       "      <th>Spent</th>\n",
       "    </tr>\n",
       "  </thead>\n",
       "  <tbody>\n",
       "    <tr>\n",
       "      <th>0</th>\n",
       "      <td>0.0</td>\n",
       "      <td>0.0</td>\n",
       "      <td>1.0</td>\n",
       "      <td>0.0</td>\n",
       "      <td>0.0</td>\n",
       "      <td>0.0</td>\n",
       "      <td>0.0</td>\n",
       "      <td>0.0</td>\n",
       "      <td>0.0</td>\n",
       "      <td>1.0</td>\n",
       "      <td>0.0</td>\n",
       "      <td>0.0</td>\n",
       "      <td>0.0</td>\n",
       "      <td>1.0</td>\n",
       "      <td>0.0</td>\n",
       "      <td>1.0</td>\n",
       "      <td>0.0</td>\n",
       "      <td>1.0</td>\n",
       "      <td>0.0</td>\n",
       "      <td>1.0</td>\n",
       "      <td>0.0</td>\n",
       "      <td>1.0</td>\n",
       "      <td>0.0</td>\n",
       "      <td>1.0</td>\n",
       "      <td>0.0</td>\n",
       "      <td>0.0</td>\n",
       "      <td>1.0</td>\n",
       "      <td>-0.020999</td>\n",
       "      <td>-0.985345</td>\n",
       "      <td>0.251469</td>\n",
       "      <td>-0.825218</td>\n",
       "      <td>-0.929894</td>\n",
       "      <td>0.307039</td>\n",
       "      <td>0.983781</td>\n",
       "      <td>1.551577</td>\n",
       "      <td>1.679702</td>\n",
       "      <td>2.462147</td>\n",
       "      <td>1.476500</td>\n",
       "      <td>0.843207</td>\n",
       "      <td>0.349414</td>\n",
       "      <td>1.409304</td>\n",
       "      <td>2.51089</td>\n",
       "      <td>-0.550785</td>\n",
       "      <td>0.693904</td>\n",
       "      <td>0.0</td>\n",
       "      <td>0.0</td>\n",
       "      <td>0.985345</td>\n",
       "      <td>1.679417</td>\n",
       "    </tr>\n",
       "    <tr>\n",
       "      <th>1</th>\n",
       "      <td>0.0</td>\n",
       "      <td>0.0</td>\n",
       "      <td>1.0</td>\n",
       "      <td>0.0</td>\n",
       "      <td>0.0</td>\n",
       "      <td>0.0</td>\n",
       "      <td>0.0</td>\n",
       "      <td>0.0</td>\n",
       "      <td>0.0</td>\n",
       "      <td>1.0</td>\n",
       "      <td>0.0</td>\n",
       "      <td>0.0</td>\n",
       "      <td>0.0</td>\n",
       "      <td>1.0</td>\n",
       "      <td>0.0</td>\n",
       "      <td>1.0</td>\n",
       "      <td>0.0</td>\n",
       "      <td>1.0</td>\n",
       "      <td>0.0</td>\n",
       "      <td>1.0</td>\n",
       "      <td>0.0</td>\n",
       "      <td>1.0</td>\n",
       "      <td>0.0</td>\n",
       "      <td>1.0</td>\n",
       "      <td>0.0</td>\n",
       "      <td>1.0</td>\n",
       "      <td>0.0</td>\n",
       "      <td>-1.053058</td>\n",
       "      <td>-1.235733</td>\n",
       "      <td>-0.210020</td>\n",
       "      <td>1.032559</td>\n",
       "      <td>0.906934</td>\n",
       "      <td>-0.383664</td>\n",
       "      <td>-0.870479</td>\n",
       "      <td>-0.636301</td>\n",
       "      <td>-0.713225</td>\n",
       "      <td>-0.650449</td>\n",
       "      <td>-0.631503</td>\n",
       "      <td>-0.729006</td>\n",
       "      <td>-0.168236</td>\n",
       "      <td>-1.110409</td>\n",
       "      <td>-0.56872</td>\n",
       "      <td>-1.166125</td>\n",
       "      <td>-0.130463</td>\n",
       "      <td>0.0</td>\n",
       "      <td>0.0</td>\n",
       "      <td>1.235733</td>\n",
       "      <td>-0.961275</td>\n",
       "    </tr>\n",
       "  </tbody>\n",
       "</table>\n",
       "</div>"
      ],
      "text/plain": [
       "   Education_2n Cycle  Education_Basic  Education_Graduation  Education_Master  Education_PhD  Marital_Status_Absurd  Marital_Status_Alone  Marital_Status_Divorced  Marital_Status_Married  Marital_Status_Single  Marital_Status_Together  Marital_Status_Widow  Marital_Status_YOLO  AcceptedCmp3_0  AcceptedCmp3_1  AcceptedCmp4_0  AcceptedCmp4_1  AcceptedCmp5_0  AcceptedCmp5_1  AcceptedCmp1_0  AcceptedCmp1_1  AcceptedCmp2_0  AcceptedCmp2_1  Complain_0  Complain_1  Response_0  Response_1        ID  Year_Birth    Income   Kidhome  Teenhome   Recency  MntWines  MntFruits  MntMeatProducts  MntFishProducts  MntSweetProducts  MntGoldProds  NumDealsPurchases  NumWebPurchases  NumCatalogPurchases  NumStorePurchases  NumWebVisitsMonth  Z_CostContact  Z_Revenue       age     Spent\n",
       "0                 0.0              0.0                   1.0               0.0            0.0                    0.0                   0.0                      0.0                     0.0                    1.0                      0.0                   0.0                  0.0             1.0             0.0             1.0             0.0             1.0             0.0             1.0             0.0             1.0             0.0         1.0         0.0         0.0         1.0 -0.020999   -0.985345  0.251469 -0.825218 -0.929894  0.307039  0.983781   1.551577         1.679702         2.462147          1.476500      0.843207           0.349414         1.409304              2.51089          -0.550785           0.693904            0.0        0.0  0.985345  1.679417\n",
       "1                 0.0              0.0                   1.0               0.0            0.0                    0.0                   0.0                      0.0                     0.0                    1.0                      0.0                   0.0                  0.0             1.0             0.0             1.0             0.0             1.0             0.0             1.0             0.0             1.0             0.0         1.0         0.0         1.0         0.0 -1.053058   -1.235733 -0.210020  1.032559  0.906934 -0.383664 -0.870479  -0.636301        -0.713225        -0.650449         -0.631503     -0.729006          -0.168236        -1.110409             -0.56872          -1.166125          -0.130463            0.0        0.0  1.235733 -0.961275"
      ]
     },
     "execution_count": 19,
     "metadata": {},
     "output_type": "execute_result"
    }
   ],
   "source": [
    "df_preprocessado.head(2)"
   ]
  },
  {
   "attachments": {},
   "cell_type": "markdown",
   "metadata": {},
   "source": [
    "### 5.2 Utilização do PCA"
   ]
  },
  {
   "attachments": {},
   "cell_type": "markdown",
   "metadata": {},
   "source": [
    "O PCA (Análise de Componentes Principais) é uma técnica matemática que nos ajuda a resumir um grande conjunto de dados em poucas variáveis importantes. Com isso, conseguimos visualizar melhor nossos dados e entender as principais tendências e padrões que eles apresentam."
   ]
  },
  {
   "attachments": {},
   "cell_type": "markdown",
   "metadata": {},
   "source": [
    "No exemplo abaixo eu escolhi resumir todas as nossas colunas em apenas 3."
   ]
  },
  {
   "cell_type": "code",
   "execution_count": 20,
   "metadata": {},
   "outputs": [
    {
     "data": {
      "text/html": [
       "<div>\n",
       "<style scoped>\n",
       "    .dataframe tbody tr th:only-of-type {\n",
       "        vertical-align: middle;\n",
       "    }\n",
       "\n",
       "    .dataframe tbody tr th {\n",
       "        vertical-align: top;\n",
       "    }\n",
       "\n",
       "    .dataframe thead th {\n",
       "        text-align: right;\n",
       "    }\n",
       "</style>\n",
       "<table border=\"1\" class=\"dataframe\">\n",
       "  <thead>\n",
       "    <tr style=\"text-align: right;\">\n",
       "      <th></th>\n",
       "      <th>PC1</th>\n",
       "      <th>PC2</th>\n",
       "      <th>PC3</th>\n",
       "    </tr>\n",
       "  </thead>\n",
       "  <tbody>\n",
       "    <tr>\n",
       "      <th>0</th>\n",
       "      <td>4.274626</td>\n",
       "      <td>0.163596</td>\n",
       "      <td>-0.237578</td>\n",
       "    </tr>\n",
       "    <tr>\n",
       "      <th>1</th>\n",
       "      <td>-2.379053</td>\n",
       "      <td>1.515902</td>\n",
       "      <td>1.465615</td>\n",
       "    </tr>\n",
       "    <tr>\n",
       "      <th>2</th>\n",
       "      <td>1.855881</td>\n",
       "      <td>0.002022</td>\n",
       "      <td>0.326317</td>\n",
       "    </tr>\n",
       "    <tr>\n",
       "      <th>3</th>\n",
       "      <td>-2.718454</td>\n",
       "      <td>-1.927570</td>\n",
       "      <td>-0.173716</td>\n",
       "    </tr>\n",
       "    <tr>\n",
       "      <th>4</th>\n",
       "      <td>-0.469913</td>\n",
       "      <td>-1.204799</td>\n",
       "      <td>-1.251350</td>\n",
       "    </tr>\n",
       "  </tbody>\n",
       "</table>\n",
       "</div>"
      ],
      "text/plain": [
       "        PC1       PC2       PC3\n",
       "0  4.274626  0.163596 -0.237578\n",
       "1 -2.379053  1.515902  1.465615\n",
       "2  1.855881  0.002022  0.326317\n",
       "3 -2.718454 -1.927570 -0.173716\n",
       "4 -0.469913 -1.204799 -1.251350"
      ]
     },
     "execution_count": 20,
     "metadata": {},
     "output_type": "execute_result"
    }
   ],
   "source": [
    "from sklearn.decomposition import PCA\n",
    "pca = PCA(n_components = 3)\n",
    "X_pca = pca.fit_transform(df_preprocessado)\n",
    "df_pca = pd.DataFrame(X_pca, columns=['PC1', 'PC2','PC3'])\n",
    "\n",
    "# Visualizando as primeiras linhas do DataFrame\n",
    "df_pca.head()"
   ]
  },
  {
   "attachments": {},
   "cell_type": "markdown",
   "metadata": {},
   "source": [
    "### 6.0 Modelagem"
   ]
  },
  {
   "attachments": {},
   "cell_type": "markdown",
   "metadata": {},
   "source": [
    "Após encontrar a quantidade de clusters (grupos) heterogêneos, é possível utilizar técnicas de clusterização para separar os dados em grupos distintos, com características semelhantes dentro de cada grupo e diferentes entre os grupos.\n",
    "\n",
    "Uma das técnicas para encontrar o número ideal de clusters é o método do cotovelo (Elbow Method), que consiste em plotar o valor da soma das distâncias quadráticas das amostras para o centróide mais próximo em relação ao número de clusters. A partir desse gráfico, é possível identificar o ponto de inflexão, conhecido como \"cotovelo\", que indica o número ideal de clusters."
   ]
  },
  {
   "cell_type": "code",
   "execution_count": 21,
   "metadata": {},
   "outputs": [
    {
     "name": "stdout",
     "output_type": "stream",
     "text": [
      "Método do cotovelo para determinar o número de clusters:\n"
     ]
    },
    {
     "data": {
      "image/png": "[encoded data removed]",
      "text/plain": [
       "<Figure size 800x550 with 2 Axes>"
      ]
     },
     "metadata": {},
     "output_type": "display_data"
    },
    {
     "data": {
      "text/plain": [
       "<AxesSubplot: title={'center': 'Distortion Score Elbow for KMeans Clustering'}, xlabel='k', ylabel='distortion score'>"
      ]
     },
     "execution_count": 21,
     "metadata": {},
     "output_type": "execute_result"
    }
   ],
   "source": [
    "from yellowbrick.cluster import KElbowVisualizer\n",
    "print('Método do cotovelo para determinar o número de clusters:')\n",
    "Elbow_M = KElbowVisualizer(KMeans(), k=10)\n",
    "Elbow_M.fit(df_pca)\n",
    "Elbow_M.show()"
   ]
  },
  {
   "attachments": {},
   "cell_type": "markdown",
   "metadata": {},
   "source": [
    "### 6.1 Treinamento do modelo e a criação da nova feature de cluster"
   ]
  },
  {
   "cell_type": "code",
   "execution_count": 22,
   "metadata": {},
   "outputs": [],
   "source": [
    "# Criando o objeto KMeans com 5 clusters\n",
    "kmeans = KMeans(n_clusters=5, random_state=42)\n",
    "\n",
    "# Treinando o modelo com os dados pré-processados\n",
    "kmeans.fit(df_pca)\n",
    "\n",
    "# Obtendo as labels dos clusters para cada instância dos dados\n",
    "labels = kmeans.predict(df_pca)\n",
    "\n",
    "df1['Cluster'] = labels"
   ]
  },
  {
   "attachments": {},
   "cell_type": "markdown",
   "metadata": {},
   "source": [
    "### 7.0 Análise exploratória de cada Cluster"
   ]
  },
  {
   "attachments": {},
   "cell_type": "markdown",
   "metadata": {},
   "source": [
    "Entendendo as principais características dos indivíduos presentes nos Clusters, podemos utilizar uma estatística descritiva para isso "
   ]
  },
  {
   "cell_type": "code",
   "execution_count": 24,
   "metadata": {},
   "outputs": [
    {
     "data": {
      "text/html": [
       "<div>\n",
       "<style scoped>\n",
       "    .dataframe tbody tr th:only-of-type {\n",
       "        vertical-align: middle;\n",
       "    }\n",
       "\n",
       "    .dataframe tbody tr th {\n",
       "        vertical-align: top;\n",
       "    }\n",
       "\n",
       "    .dataframe thead th {\n",
       "        text-align: right;\n",
       "    }\n",
       "</style>\n",
       "<table border=\"1\" class=\"dataframe\">\n",
       "  <thead>\n",
       "    <tr style=\"text-align: right;\">\n",
       "      <th></th>\n",
       "      <th>Cluster</th>\n",
       "      <th>0</th>\n",
       "      <th>1</th>\n",
       "      <th>2</th>\n",
       "      <th>3</th>\n",
       "      <th>4</th>\n",
       "    </tr>\n",
       "  </thead>\n",
       "  <tbody>\n",
       "    <tr>\n",
       "      <th rowspan=\"8\" valign=\"top\">Income</th>\n",
       "      <th>count</th>\n",
       "      <td>467.000000</td>\n",
       "      <td>318.000000</td>\n",
       "      <td>332.000000</td>\n",
       "      <td>665.000000</td>\n",
       "      <td>458.000000</td>\n",
       "    </tr>\n",
       "    <tr>\n",
       "      <th>mean</th>\n",
       "      <td>57081.299786</td>\n",
       "      <td>75494.103774</td>\n",
       "      <td>75544.716867</td>\n",
       "      <td>31207.308271</td>\n",
       "      <td>42217.534934</td>\n",
       "    </tr>\n",
       "    <tr>\n",
       "      <th>std</th>\n",
       "      <td>11959.447272</td>\n",
       "      <td>14788.004763</td>\n",
       "      <td>34776.564866</td>\n",
       "      <td>11825.161080</td>\n",
       "      <td>16936.763422</td>\n",
       "    </tr>\n",
       "    <tr>\n",
       "      <th>min</th>\n",
       "      <td>2230.000000</td>\n",
       "      <td>2230.000000</td>\n",
       "      <td>2230.000000</td>\n",
       "      <td>1730.000000</td>\n",
       "      <td>2230.000000</td>\n",
       "    </tr>\n",
       "    <tr>\n",
       "      <th>25%</th>\n",
       "      <td>51309.500000</td>\n",
       "      <td>69756.000000</td>\n",
       "      <td>67032.250000</td>\n",
       "      <td>23162.000000</td>\n",
       "      <td>33596.000000</td>\n",
       "    </tr>\n",
       "    <tr>\n",
       "      <th>50%</th>\n",
       "      <td>57937.000000</td>\n",
       "      <td>75775.500000</td>\n",
       "      <td>74676.500000</td>\n",
       "      <td>31086.000000</td>\n",
       "      <td>42429.000000</td>\n",
       "    </tr>\n",
       "    <tr>\n",
       "      <th>75%</th>\n",
       "      <td>64717.500000</td>\n",
       "      <td>82287.000000</td>\n",
       "      <td>80827.000000</td>\n",
       "      <td>38643.000000</td>\n",
       "      <td>50256.750000</td>\n",
       "    </tr>\n",
       "    <tr>\n",
       "      <th>max</th>\n",
       "      <td>93404.000000</td>\n",
       "      <td>160803.000000</td>\n",
       "      <td>666666.000000</td>\n",
       "      <td>73395.000000</td>\n",
       "      <td>162397.000000</td>\n",
       "    </tr>\n",
       "    <tr>\n",
       "      <th rowspan=\"8\" valign=\"top\">Spent</th>\n",
       "      <th>count</th>\n",
       "      <td>467.000000</td>\n",
       "      <td>318.000000</td>\n",
       "      <td>332.000000</td>\n",
       "      <td>665.000000</td>\n",
       "      <td>458.000000</td>\n",
       "    </tr>\n",
       "    <tr>\n",
       "      <th>mean</th>\n",
       "      <td>755.124197</td>\n",
       "      <td>1439.188679</td>\n",
       "      <td>1250.328313</td>\n",
       "      <td>96.848120</td>\n",
       "      <td>146.659389</td>\n",
       "    </tr>\n",
       "    <tr>\n",
       "      <th>std</th>\n",
       "      <td>321.676045</td>\n",
       "      <td>432.807243</td>\n",
       "      <td>399.907222</td>\n",
       "      <td>100.369901</td>\n",
       "      <td>122.590625</td>\n",
       "    </tr>\n",
       "    <tr>\n",
       "      <th>min</th>\n",
       "      <td>235.000000</td>\n",
       "      <td>461.000000</td>\n",
       "      <td>62.000000</td>\n",
       "      <td>5.000000</td>\n",
       "      <td>6.000000</td>\n",
       "    </tr>\n",
       "    <tr>\n",
       "      <th>25%</th>\n",
       "      <td>495.500000</td>\n",
       "      <td>1132.000000</td>\n",
       "      <td>976.000000</td>\n",
       "      <td>37.000000</td>\n",
       "      <td>46.000000</td>\n",
       "    </tr>\n",
       "    <tr>\n",
       "      <th>50%</th>\n",
       "      <td>689.000000</td>\n",
       "      <td>1439.000000</td>\n",
       "      <td>1177.000000</td>\n",
       "      <td>60.000000</td>\n",
       "      <td>101.000000</td>\n",
       "    </tr>\n",
       "    <tr>\n",
       "      <th>75%</th>\n",
       "      <td>965.500000</td>\n",
       "      <td>1749.250000</td>\n",
       "      <td>1532.250000</td>\n",
       "      <td>106.000000</td>\n",
       "      <td>234.500000</td>\n",
       "    </tr>\n",
       "    <tr>\n",
       "      <th>max</th>\n",
       "      <td>1829.000000</td>\n",
       "      <td>2525.000000</td>\n",
       "      <td>2440.000000</td>\n",
       "      <td>680.000000</td>\n",
       "      <td>507.000000</td>\n",
       "    </tr>\n",
       "    <tr>\n",
       "      <th rowspan=\"8\" valign=\"top\">age</th>\n",
       "      <th>count</th>\n",
       "      <td>467.000000</td>\n",
       "      <td>318.000000</td>\n",
       "      <td>332.000000</td>\n",
       "      <td>665.000000</td>\n",
       "      <td>458.000000</td>\n",
       "    </tr>\n",
       "    <tr>\n",
       "      <th>mean</th>\n",
       "      <td>56.721627</td>\n",
       "      <td>44.393082</td>\n",
       "      <td>66.078313</td>\n",
       "      <td>44.673684</td>\n",
       "      <td>63.631004</td>\n",
       "    </tr>\n",
       "    <tr>\n",
       "      <th>std</th>\n",
       "      <td>9.103814</td>\n",
       "      <td>8.031457</td>\n",
       "      <td>8.197333</td>\n",
       "      <td>6.404558</td>\n",
       "      <td>8.306313</td>\n",
       "    </tr>\n",
       "    <tr>\n",
       "      <th>min</th>\n",
       "      <td>33.000000</td>\n",
       "      <td>28.000000</td>\n",
       "      <td>46.000000</td>\n",
       "      <td>27.000000</td>\n",
       "      <td>47.000000</td>\n",
       "    </tr>\n",
       "    <tr>\n",
       "      <th>25%</th>\n",
       "      <td>49.000000</td>\n",
       "      <td>38.000000</td>\n",
       "      <td>61.000000</td>\n",
       "      <td>40.000000</td>\n",
       "      <td>58.000000</td>\n",
       "    </tr>\n",
       "    <tr>\n",
       "      <th>50%</th>\n",
       "      <td>55.000000</td>\n",
       "      <td>45.000000</td>\n",
       "      <td>66.000000</td>\n",
       "      <td>45.000000</td>\n",
       "      <td>64.000000</td>\n",
       "    </tr>\n",
       "    <tr>\n",
       "      <th>75%</th>\n",
       "      <td>64.000000</td>\n",
       "      <td>51.000000</td>\n",
       "      <td>71.250000</td>\n",
       "      <td>50.000000</td>\n",
       "      <td>69.000000</td>\n",
       "    </tr>\n",
       "    <tr>\n",
       "      <th>max</th>\n",
       "      <td>79.000000</td>\n",
       "      <td>67.000000</td>\n",
       "      <td>124.000000</td>\n",
       "      <td>60.000000</td>\n",
       "      <td>130.000000</td>\n",
       "    </tr>\n",
       "  </tbody>\n",
       "</table>\n",
       "</div>"
      ],
      "text/plain": [
       "Cluster                  0              1              2             3              4\n",
       "Income count    467.000000     318.000000     332.000000    665.000000     458.000000\n",
       "       mean   57081.299786   75494.103774   75544.716867  31207.308271   42217.534934\n",
       "       std    11959.447272   14788.004763   34776.564866  11825.161080   16936.763422\n",
       "       min     2230.000000    2230.000000    2230.000000   1730.000000    2230.000000\n",
       "       25%    51309.500000   69756.000000   67032.250000  23162.000000   33596.000000\n",
       "       50%    57937.000000   75775.500000   74676.500000  31086.000000   42429.000000\n",
       "       75%    64717.500000   82287.000000   80827.000000  38643.000000   50256.750000\n",
       "       max    93404.000000  160803.000000  666666.000000  73395.000000  162397.000000\n",
       "Spent  count    467.000000     318.000000     332.000000    665.000000     458.000000\n",
       "       mean     755.124197    1439.188679    1250.328313     96.848120     146.659389\n",
       "       std      321.676045     432.807243     399.907222    100.369901     122.590625\n",
       "       min      235.000000     461.000000      62.000000      5.000000       6.000000\n",
       "       25%      495.500000    1132.000000     976.000000     37.000000      46.000000\n",
       "       50%      689.000000    1439.000000    1177.000000     60.000000     101.000000\n",
       "       75%      965.500000    1749.250000    1532.250000    106.000000     234.500000\n",
       "       max     1829.000000    2525.000000    2440.000000    680.000000     507.000000\n",
       "age    count    467.000000     318.000000     332.000000    665.000000     458.000000\n",
       "       mean      56.721627      44.393082      66.078313     44.673684      63.631004\n",
       "       std        9.103814       8.031457       8.197333      6.404558       8.306313\n",
       "       min       33.000000      28.000000      46.000000     27.000000      47.000000\n",
       "       25%       49.000000      38.000000      61.000000     40.000000      58.000000\n",
       "       50%       55.000000      45.000000      66.000000     45.000000      64.000000\n",
       "       75%       64.000000      51.000000      71.250000     50.000000      69.000000\n",
       "       max       79.000000      67.000000     124.000000     60.000000     130.000000"
      ]
     },
     "execution_count": 24,
     "metadata": {},
     "output_type": "execute_result"
    }
   ],
   "source": [
    "grupos = df1.groupby('Cluster')[['Income', 'Spent', 'age']].describe().T\n",
    "grupos"
   ]
  },
  {
   "cell_type": "code",
   "execution_count": 25,
   "metadata": {},
   "outputs": [
    {
     "data": {
      "image/png": "[encoded data removed]",
      "text/plain": [
       "<Figure size 800x550 with 1 Axes>"
      ]
     },
     "metadata": {},
     "output_type": "display_data"
    }
   ],
   "source": [
    "#Contagem de pessoas em cada Cluster\n",
    "pal = [\"#682F2F\",\"#B9C0C9\", \"#9F8A78\",\"#F3AB60\",\"#a9a9a9\"]\n",
    "pl = sns.countplot(x=df1[\"Cluster\"], palette= pal)\n",
    "pl.set_title(\"Quantidade de pessoas em cada grupo\")\n",
    "plt.show()"
   ]
  },
  {
   "cell_type": "code",
   "execution_count": 26,
   "metadata": {},
   "outputs": [
    {
     "data": {
      "image/png": "[encoded data removed]",
      "text/plain": [
       "<Figure size 800x550 with 1 Axes>"
      ]
     },
     "metadata": {},
     "output_type": "display_data"
    }
   ],
   "source": [
    "renda_cluster = df1.groupby('Cluster')['Income'].mean()\n",
    "pl = sns.barplot(x=renda_cluster.index, y=renda_cluster.values, data=df1, palette=pal)\n",
    "pl.set_title(\"Renda Média de cada Cluster\")\n",
    "plt.show()"
   ]
  },
  {
   "cell_type": "code",
   "execution_count": 27,
   "metadata": {},
   "outputs": [
    {
     "data": {
      "image/png": "[encoded data removed]",
      "text/plain": [
       "<Figure size 800x550 with 1 Axes>"
      ]
     },
     "metadata": {},
     "output_type": "display_data"
    }
   ],
   "source": [
    "plt.figure()\n",
    "pl=sns.boxplot(x=df1[\"Cluster\"], y=df1[\"Spent\"], palette=pal)\n",
    "pl.set_title(\"Distribuição de gastos por cluster\")\n",
    "plt.show()"
   ]
  },
  {
   "cell_type": "code",
   "execution_count": 28,
   "metadata": {},
   "outputs": [
    {
     "data": {
      "image/png": "[encoded data removed]",
      "text/plain": [
       "<Figure size 800x550 with 1 Axes>"
      ]
     },
     "metadata": {},
     "output_type": "display_data"
    }
   ],
   "source": [
    "pl = sns.scatterplot(data = df1,x=df1[\"Spent\"], y=df1[\"Income\"],hue=df1[\"Cluster\"], palette= pal)\n",
    "pl.set_title(\"Relação entre receita e gastos para cada Cluster\")\n",
    "plt.legend()\n",
    "plt.show()"
   ]
  },
  {
   "attachments": {},
   "cell_type": "markdown",
   "metadata": {},
   "source": [
    "Analisando a os boxplots dos Clusters em relação ao gasto podemos observar detalhes importantes\n",
    "- Os integrantes do Cluster 1 e 2 são os que mais gastam.\n",
    "- Os integrantes do Cluster 3 e 4 gastam pouco.\n",
    "\n",
    "Podemos analisar as características de cada cluster e tentar entender o motivos"
   ]
  },
  {
   "cell_type": "code",
   "execution_count": 30,
   "metadata": {},
   "outputs": [
    {
     "data": {
      "image/png": "[encoded data removed]",
      "text/plain": [
       "<Figure size 800x550 with 1 Axes>"
      ]
     },
     "metadata": {},
     "output_type": "display_data"
    }
   ],
   "source": [
    "#Criando uma feature para encontrar o total de promoções\n",
    "df1[\"Total_Promos\"] = df1[\"AcceptedCmp1\"]+ df1[\"AcceptedCmp2\"]+ df1[\"AcceptedCmp3\"]+ df1[\"AcceptedCmp4\"]+ df1[\"AcceptedCmp5\"]\n",
    "#Plotting count of total campaign accepted.\n",
    "plt.figure()\n",
    "pl = sns.countplot(x=df1[\"Total_Promos\"],hue=df1[\"Cluster\"], palette= pal)\n",
    "pl.set_xlabel(\"Número total de Campanhas aceitas\")\n",
    "plt.legend(loc=\"center right\")\n",
    "plt.show()\n"
   ]
  },
  {
   "attachments": {},
   "cell_type": "markdown",
   "metadata": {},
   "source": [
    "## Conclusões"
   ]
  },
  {
   "attachments": {},
   "cell_type": "markdown",
   "metadata": {},
   "source": [
    "Após uma análise detalhada dos nossos clientes, podemos identificar diferentes grupos e suas características, o que pode nos auxiliar a entender como cada um deles é impactado pelas campanhas e promoções, além de identificar quais grupos possuem maior potencial de compra.\n",
    "\n",
    "- Os três primeiros grupos (0, 1 e 2) se destacam pela maior renda mensal e, portanto, são os grupos que mais se beneficiam das campanhas e promoções. São também os grupos que apresentam maior potencial de compra, o que torna importante o direcionamento de estratégias de marketing específicas para atingi-los.\n",
    "\n",
    "- Por outro lado, os grupos 3 e 4 são mais populosos, mas possuem renda mensal menor. Dessa forma, a empresa pode estar atingindo um grande número de pessoas com suas campanhas publicitárias, mas não necessariamente atingindo seu público-alvo de forma eficiente. Isso pode ser uma estratégia menos rentável, já que esses grupos apresentam menor potencial de compra.\n",
    "\n",
    "Portanto, é fundamental que a empresa leve em consideração essas informações ao planejar suas campanhas e promoções, direcionando esforços para os grupos com maior potencial de compra e avaliando a eficácia das estratégias adotadas. Isso pode contribuir para aumentar a rentabilidade das campanhas, além de gerar um impacto positivo nos resultados da empresa."
   ]
  }
 ],
 "metadata": {
  "kernelspec": {
   "display_name": "Python 3",
   "language": "python",
   "name": "python3"
  },
  "language_info": {
   "codemirror_mode": {
    "name": "ipython",
    "version": 3
   },
   "file_extension": ".py",
   "mimetype": "text/x-python",
   "name": "python",
   "nbconvert_exporter": "python",
   "pygments_lexer": "ipython3",
   "version": "3.11.0"
  },
  "orig_nbformat": 4
 },
 "nbformat": 4,
 "nbformat_minor": 2
}
