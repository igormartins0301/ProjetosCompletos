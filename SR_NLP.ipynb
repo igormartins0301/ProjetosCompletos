{
 "cells": [
  {
   "attachments": {},
   "cell_type": "markdown",
   "metadata": {},
   "source": [
    "### Importando bibliotecas"
   ]
  },
  {
   "cell_type": "code",
   "execution_count": 1,
   "metadata": {},
   "outputs": [],
   "source": [
    "import pandas as pd\n",
    "import numpy as np\n",
    "import json\n",
    "import pickle\n",
    "import requests\n"
   ]
  },
  {
   "attachments": {},
   "cell_type": "markdown",
   "metadata": {},
   "source": [
    "### Definindo função que irá trabalhar com as colunas em JSON"
   ]
  },
  {
   "cell_type": "code",
   "execution_count": 2,
   "metadata": {},
   "outputs": [],
   "source": [
    "def extract_key_value(row, column_name, key_name):\n",
    "    data_list = json.loads(row[column_name])\n",
    "    return [data[key_name] for data in data_list]"
   ]
  },
  {
   "attachments": {},
   "cell_type": "markdown",
   "metadata": {},
   "source": [
    "### Carregando os Datasets"
   ]
  },
  {
   "cell_type": "code",
   "execution_count": 3,
   "metadata": {},
   "outputs": [
    {
     "name": "stdout",
     "output_type": "stream",
     "text": [
      "movies(4803, 20)\n",
      "credits(4803, 4)\n"
     ]
    }
   ],
   "source": [
    "movies = pd.read_csv('tmdb_5000_movies.csv')\n",
    "credits = pd.read_csv('tmdb_5000_credits.csv')\n",
    "\n",
    "print(f'movies{movies.shape}')\n",
    "print(f'credits{credits.shape}')"
   ]
  },
  {
   "cell_type": "code",
   "execution_count": 4,
   "metadata": {},
   "outputs": [
    {
     "data": {
      "text/html": [
       "<div>\n",
       "<style scoped>\n",
       "    .dataframe tbody tr th:only-of-type {\n",
       "        vertical-align: middle;\n",
       "    }\n",
       "\n",
       "    .dataframe tbody tr th {\n",
       "        vertical-align: top;\n",
       "    }\n",
       "\n",
       "    .dataframe thead th {\n",
       "        text-align: right;\n",
       "    }\n",
       "</style>\n",
       "<table border=\"1\" class=\"dataframe\">\n",
       "  <thead>\n",
       "    <tr style=\"text-align: right;\">\n",
       "      <th></th>\n",
       "      <th>budget</th>\n",
       "      <th>genres</th>\n",
       "      <th>homepage</th>\n",
       "      <th>id</th>\n",
       "      <th>keywords</th>\n",
       "      <th>original_language</th>\n",
       "      <th>original_title</th>\n",
       "      <th>overview</th>\n",
       "      <th>popularity</th>\n",
       "      <th>production_companies</th>\n",
       "      <th>production_countries</th>\n",
       "      <th>release_date</th>\n",
       "      <th>revenue</th>\n",
       "      <th>runtime</th>\n",
       "      <th>spoken_languages</th>\n",
       "      <th>status</th>\n",
       "      <th>tagline</th>\n",
       "      <th>title</th>\n",
       "      <th>vote_average</th>\n",
       "      <th>vote_count</th>\n",
       "    </tr>\n",
       "  </thead>\n",
       "  <tbody>\n",
       "    <tr>\n",
       "      <th>0</th>\n",
       "      <td>237000000</td>\n",
       "      <td>[{\"id\": 28, \"name\": \"Action\"}, {\"id\": 12, \"nam...</td>\n",
       "      <td>http://www.avatarmovie.com/</td>\n",
       "      <td>19995</td>\n",
       "      <td>[{\"id\": 1463, \"name\": \"culture clash\"}, {\"id\":...</td>\n",
       "      <td>en</td>\n",
       "      <td>Avatar</td>\n",
       "      <td>In the 22nd century, a paraplegic Marine is di...</td>\n",
       "      <td>150.437577</td>\n",
       "      <td>[{\"name\": \"Ingenious Film Partners\", \"id\": 289...</td>\n",
       "      <td>[{\"iso_3166_1\": \"US\", \"name\": \"United States o...</td>\n",
       "      <td>2009-12-10</td>\n",
       "      <td>2787965087</td>\n",
       "      <td>162.0</td>\n",
       "      <td>[{\"iso_639_1\": \"en\", \"name\": \"English\"}, {\"iso...</td>\n",
       "      <td>Released</td>\n",
       "      <td>Enter the World of Pandora.</td>\n",
       "      <td>Avatar</td>\n",
       "      <td>7.2</td>\n",
       "      <td>11800</td>\n",
       "    </tr>\n",
       "  </tbody>\n",
       "</table>\n",
       "</div>"
      ],
      "text/plain": [
       "      budget                                             genres  \\\n",
       "0  237000000  [{\"id\": 28, \"name\": \"Action\"}, {\"id\": 12, \"nam...   \n",
       "\n",
       "                      homepage     id  \\\n",
       "0  http://www.avatarmovie.com/  19995   \n",
       "\n",
       "                                            keywords original_language  \\\n",
       "0  [{\"id\": 1463, \"name\": \"culture clash\"}, {\"id\":...                en   \n",
       "\n",
       "  original_title                                           overview  \\\n",
       "0         Avatar  In the 22nd century, a paraplegic Marine is di...   \n",
       "\n",
       "   popularity                               production_companies  \\\n",
       "0  150.437577  [{\"name\": \"Ingenious Film Partners\", \"id\": 289...   \n",
       "\n",
       "                                production_countries release_date     revenue  \\\n",
       "0  [{\"iso_3166_1\": \"US\", \"name\": \"United States o...   2009-12-10  2787965087   \n",
       "\n",
       "   runtime                                   spoken_languages    status  \\\n",
       "0    162.0  [{\"iso_639_1\": \"en\", \"name\": \"English\"}, {\"iso...  Released   \n",
       "\n",
       "                       tagline   title  vote_average  vote_count  \n",
       "0  Enter the World of Pandora.  Avatar           7.2       11800  "
      ]
     },
     "execution_count": 4,
     "metadata": {},
     "output_type": "execute_result"
    }
   ],
   "source": [
    "movies.head(1)"
   ]
  },
  {
   "attachments": {},
   "cell_type": "markdown",
   "metadata": {},
   "source": [
    "### Tratamento de dados"
   ]
  },
  {
   "cell_type": "code",
   "execution_count": 5,
   "metadata": {},
   "outputs": [],
   "source": [
    "#Tratamento na tabela de Filmes\n",
    "\n",
    "# Extraindo genero do Json e apagando coluna antiga\n",
    "movies['GENERO'] = movies.apply(lambda row: extract_key_value(row, 'genres', 'name'), axis=1)\n",
    "movies = movies.drop('genres',axis= 1 )\n",
    "\n",
    "# Extraindo palavras chaves do Json e apagando coluna antiga\n",
    "movies['KEYWORDS'] = movies.apply(lambda row: extract_key_value(row, 'keywords', 'name'), axis=1)\n",
    "movies = movies.drop('keywords',axis= 1 )\n",
    "\n",
    "# Extraindo produtora do Json e apagando coluna antiga\n",
    "movies['PRODUTORA'] = movies.apply(lambda row: extract_key_value(row, 'production_companies', 'name'), axis=1)\n",
    "movies = movies.drop('production_companies',axis= 1 )\n",
    "\n",
    "# Extraindo país do Json e apagando coluna antiga\n",
    "movies['PAIS'] = movies.apply(lambda row: extract_key_value(row, 'production_countries', 'name'), axis=1)\n",
    "movies = movies.drop('production_countries',axis= 1 )\n",
    "\n",
    "# Extraindo lingua do Json e apagando coluna antiga\n",
    "movies['LINGUA'] = movies.apply(lambda row: extract_key_value(row, 'spoken_languages', 'name'), axis=1)\n",
    "movies = movies.drop('spoken_languages',axis= 1 )\n",
    "\n",
    "colunas_drop = ['homepage','release_date','revenue','runtime','vote_average','vote_count']\n",
    "movies = movies.drop(colunas_drop, axis = 1)"
   ]
  },
  {
   "cell_type": "code",
   "execution_count": 6,
   "metadata": {},
   "outputs": [
    {
     "data": {
      "text/html": [
       "<div>\n",
       "<style scoped>\n",
       "    .dataframe tbody tr th:only-of-type {\n",
       "        vertical-align: middle;\n",
       "    }\n",
       "\n",
       "    .dataframe tbody tr th {\n",
       "        vertical-align: top;\n",
       "    }\n",
       "\n",
       "    .dataframe thead th {\n",
       "        text-align: right;\n",
       "    }\n",
       "</style>\n",
       "<table border=\"1\" class=\"dataframe\">\n",
       "  <thead>\n",
       "    <tr style=\"text-align: right;\">\n",
       "      <th></th>\n",
       "      <th>budget</th>\n",
       "      <th>id</th>\n",
       "      <th>original_language</th>\n",
       "      <th>original_title</th>\n",
       "      <th>overview</th>\n",
       "      <th>popularity</th>\n",
       "      <th>status</th>\n",
       "      <th>tagline</th>\n",
       "      <th>title</th>\n",
       "      <th>GENERO</th>\n",
       "      <th>KEYWORDS</th>\n",
       "      <th>PRODUTORA</th>\n",
       "      <th>PAIS</th>\n",
       "      <th>LINGUA</th>\n",
       "    </tr>\n",
       "  </thead>\n",
       "  <tbody>\n",
       "    <tr>\n",
       "      <th>0</th>\n",
       "      <td>237000000</td>\n",
       "      <td>19995</td>\n",
       "      <td>en</td>\n",
       "      <td>Avatar</td>\n",
       "      <td>In the 22nd century, a paraplegic Marine is di...</td>\n",
       "      <td>150.437577</td>\n",
       "      <td>Released</td>\n",
       "      <td>Enter the World of Pandora.</td>\n",
       "      <td>Avatar</td>\n",
       "      <td>[Action, Adventure, Fantasy, Science Fiction]</td>\n",
       "      <td>[culture clash, future, space war, space colon...</td>\n",
       "      <td>[Ingenious Film Partners, Twentieth Century Fo...</td>\n",
       "      <td>[United States of America, United Kingdom]</td>\n",
       "      <td>[English, Español]</td>\n",
       "    </tr>\n",
       "    <tr>\n",
       "      <th>1</th>\n",
       "      <td>300000000</td>\n",
       "      <td>285</td>\n",
       "      <td>en</td>\n",
       "      <td>Pirates of the Caribbean: At World's End</td>\n",
       "      <td>Captain Barbossa, long believed to be dead, ha...</td>\n",
       "      <td>139.082615</td>\n",
       "      <td>Released</td>\n",
       "      <td>At the end of the world, the adventure begins.</td>\n",
       "      <td>Pirates of the Caribbean: At World's End</td>\n",
       "      <td>[Adventure, Fantasy, Action]</td>\n",
       "      <td>[ocean, drug abuse, exotic island, east india ...</td>\n",
       "      <td>[Walt Disney Pictures, Jerry Bruckheimer Films...</td>\n",
       "      <td>[United States of America]</td>\n",
       "      <td>[English]</td>\n",
       "    </tr>\n",
       "    <tr>\n",
       "      <th>2</th>\n",
       "      <td>245000000</td>\n",
       "      <td>206647</td>\n",
       "      <td>en</td>\n",
       "      <td>Spectre</td>\n",
       "      <td>A cryptic message from Bond’s past sends him o...</td>\n",
       "      <td>107.376788</td>\n",
       "      <td>Released</td>\n",
       "      <td>A Plan No One Escapes</td>\n",
       "      <td>Spectre</td>\n",
       "      <td>[Action, Adventure, Crime]</td>\n",
       "      <td>[spy, based on novel, secret agent, sequel, mi...</td>\n",
       "      <td>[Columbia Pictures, Danjaq, B24]</td>\n",
       "      <td>[United Kingdom, United States of America]</td>\n",
       "      <td>[Français, English, Español, Italiano, Deutsch]</td>\n",
       "    </tr>\n",
       "  </tbody>\n",
       "</table>\n",
       "</div>"
      ],
      "text/plain": [
       "      budget      id original_language  \\\n",
       "0  237000000   19995                en   \n",
       "1  300000000     285                en   \n",
       "2  245000000  206647                en   \n",
       "\n",
       "                             original_title  \\\n",
       "0                                    Avatar   \n",
       "1  Pirates of the Caribbean: At World's End   \n",
       "2                                   Spectre   \n",
       "\n",
       "                                            overview  popularity    status  \\\n",
       "0  In the 22nd century, a paraplegic Marine is di...  150.437577  Released   \n",
       "1  Captain Barbossa, long believed to be dead, ha...  139.082615  Released   \n",
       "2  A cryptic message from Bond’s past sends him o...  107.376788  Released   \n",
       "\n",
       "                                          tagline  \\\n",
       "0                     Enter the World of Pandora.   \n",
       "1  At the end of the world, the adventure begins.   \n",
       "2                           A Plan No One Escapes   \n",
       "\n",
       "                                      title  \\\n",
       "0                                    Avatar   \n",
       "1  Pirates of the Caribbean: At World's End   \n",
       "2                                   Spectre   \n",
       "\n",
       "                                          GENERO  \\\n",
       "0  [Action, Adventure, Fantasy, Science Fiction]   \n",
       "1                   [Adventure, Fantasy, Action]   \n",
       "2                     [Action, Adventure, Crime]   \n",
       "\n",
       "                                            KEYWORDS  \\\n",
       "0  [culture clash, future, space war, space colon...   \n",
       "1  [ocean, drug abuse, exotic island, east india ...   \n",
       "2  [spy, based on novel, secret agent, sequel, mi...   \n",
       "\n",
       "                                           PRODUTORA  \\\n",
       "0  [Ingenious Film Partners, Twentieth Century Fo...   \n",
       "1  [Walt Disney Pictures, Jerry Bruckheimer Films...   \n",
       "2                   [Columbia Pictures, Danjaq, B24]   \n",
       "\n",
       "                                         PAIS  \\\n",
       "0  [United States of America, United Kingdom]   \n",
       "1                  [United States of America]   \n",
       "2  [United Kingdom, United States of America]   \n",
       "\n",
       "                                            LINGUA  \n",
       "0                               [English, Español]  \n",
       "1                                        [English]  \n",
       "2  [Français, English, Español, Italiano, Deutsch]  "
      ]
     },
     "execution_count": 6,
     "metadata": {},
     "output_type": "execute_result"
    }
   ],
   "source": [
    "movies.head(3)"
   ]
  },
  {
   "cell_type": "code",
   "execution_count": 7,
   "metadata": {},
   "outputs": [],
   "source": [
    "#Tratamento na tabela de créditos\n",
    "\n",
    "credits['PERSONAGENS'] = credits.apply(lambda row: extract_key_value(row, 'cast', 'character'), axis=1)\n",
    "credits = credits.drop('cast',axis= 1 )\n",
    "\n",
    "credits = credits.drop('crew', axis = 1)"
   ]
  },
  {
   "attachments": {},
   "cell_type": "markdown",
   "metadata": {},
   "source": [
    "### Juntando as duas tabelas"
   ]
  },
  {
   "cell_type": "code",
   "execution_count": 8,
   "metadata": {},
   "outputs": [],
   "source": [
    "movies_credits = pd.merge(movies,credits, left_on= 'id', right_on= 'movie_id')\n",
    "movies_credits.drop(['title_y','title_x','movie_id'], axis = 1, inplace= True)"
   ]
  },
  {
   "attachments": {},
   "cell_type": "markdown",
   "metadata": {},
   "source": [
    "Nessa etapa cria-se uma coluna única com todas as palavras presentes em todas as colunas da linha, com isso podemos calcular a similaridade dos filmes posteriormente"
   ]
  },
  {
   "cell_type": "code",
   "execution_count": 9,
   "metadata": {},
   "outputs": [],
   "source": [
    "from typing import Any\n",
    "\n",
    "def concat_columns(row):\n",
    "    text = ' '.join(str(value) for value in row if isinstance(value, (str, list, dict)))\n",
    "    return text.strip()\n",
    "\n",
    "movies_credits['all_text'] = movies_credits.apply(concat_columns, axis=1)"
   ]
  },
  {
   "attachments": {},
   "cell_type": "markdown",
   "metadata": {},
   "source": [
    "Selecionando as colunas"
   ]
  },
  {
   "cell_type": "code",
   "execution_count": 10,
   "metadata": {},
   "outputs": [],
   "source": [
    "movies_credits = movies_credits[['id','original_title','popularity','all_text']]"
   ]
  },
  {
   "attachments": {},
   "cell_type": "markdown",
   "metadata": {},
   "source": [
    "### Vetorização da coluna de palavras dos filmes"
   ]
  },
  {
   "attachments": {},
   "cell_type": "markdown",
   "metadata": {},
   "source": [
    "Primeiramente, é utilizado o objeto TfidfVectorizer para transformar o texto dos filmes em uma matriz numérica, que representa a frequência de cada palavra em cada texto. A partir disso, é calculada a similaridade entre os textos utilizando a medida de similaridade cosseno.\n",
    "\n",
    "Em seguida, é utilizado o objeto CountVectorizer para criar uma nova matriz numérica, considerando apenas as frequências de cada palavra, ignorando a importância delas no contexto geral. A partir disso, também é calculada a similaridade cosseno entre os textos.\n",
    "\n",
    "Por fim, é realizada a combinação das similaridades obtidas em cada etapa, utilizando a multiplicação das matrizes numéricas correspondentes. O resultado final é uma matriz de similaridade que leva em conta tanto a importância das palavras quanto a frequência delas nos textos dos filmes, permitindo uma análise mais precisa das similaridades entre os filmes."
   ]
  },
  {
   "cell_type": "code",
   "execution_count": 11,
   "metadata": {},
   "outputs": [],
   "source": [
    "from sklearn.feature_extraction.text import TfidfVectorizer\n",
    "from sklearn.metrics.pairwise import cosine_similarity\n",
    "from sklearn.feature_extraction.text import CountVectorizer\n",
    "\n",
    "tfid = TfidfVectorizer()\n",
    "\n",
    "vectorTfid = tfid.fit_transform(movies_credits['all_text']).toarray()\n",
    "similarityTfidfVect = cosine_similarity(vectorTfid)\n",
    "\n",
    "cv = CountVectorizer(stop_words='english', lowercase=True)\n",
    "\n",
    "vector = cv.fit_transform(movies_credits['all_text']).toarray()\n",
    "similarityCountVect = cosine_similarity(vector)\n",
    "\n",
    "# COMBINING SIMILARITIE\n",
    "res = np.multiply(similarityTfidfVect, similarityCountVect)"
   ]
  },
  {
   "cell_type": "code",
   "execution_count": 12,
   "metadata": {},
   "outputs": [
    {
     "data": {
      "text/plain": [
       "array([[1.00000000e+00, 1.89169346e-04, 7.29948106e-03, ...,\n",
       "        2.93116410e-04, 1.26039019e-04, 1.13305061e-04],\n",
       "       [1.89169346e-04, 1.00000000e+00, 4.65127054e-04, ...,\n",
       "        2.03999723e-03, 1.36276563e-03, 1.07934888e-03],\n",
       "       [7.29948106e-03, 4.65127054e-04, 1.00000000e+00, ...,\n",
       "        6.96098646e-04, 5.88605887e-04, 2.72228079e-04],\n",
       "       ...,\n",
       "       [2.93116410e-04, 2.03999723e-03, 6.96098646e-04, ...,\n",
       "        1.00000000e+00, 4.52286537e-03, 4.47012415e-03],\n",
       "       [1.26039019e-04, 1.36276563e-03, 5.88605887e-04, ...,\n",
       "        4.52286537e-03, 1.00000000e+00, 4.59115945e-03],\n",
       "       [1.13305061e-04, 1.07934888e-03, 2.72228079e-04, ...,\n",
       "        4.47012415e-03, 4.59115945e-03, 1.00000000e+00]])"
      ]
     },
     "execution_count": 12,
     "metadata": {},
     "output_type": "execute_result"
    }
   ],
   "source": [
    "res "
   ]
  },
  {
   "attachments": {},
   "cell_type": "markdown",
   "metadata": {},
   "source": [
    "### Gerando as recomendações"
   ]
  },
  {
   "attachments": {},
   "cell_type": "markdown",
   "metadata": {},
   "source": [
    "No exemplo abaixo foi utilizado o filme Shrek para ser a referência, e a partir disso o modelo gerou 10 recomendações de outros filmes parecidos com a referência."
   ]
  },
  {
   "cell_type": "code",
   "execution_count": 13,
   "metadata": {},
   "outputs": [
    {
     "name": "stdout",
     "output_type": "stream",
     "text": [
      "Filmes recomendados para quem gostou de Shrek:\n",
      "106                      Shrek the Third\n",
      "565                              Shrek 2\n",
      "86                   Shrek Forever After\n",
      "42                           Toy Story 3\n",
      "40                                Cars 2\n",
      "347    Cloudy with a Chance of Meatballs\n",
      "88                            Big Hero 6\n",
      "187                        Puss in Boots\n",
      "152                      Kung Fu Panda 3\n",
      "566                                 Cars\n",
      "Name: original_title, dtype: object\n"
     ]
    }
   ],
   "source": [
    "# Escolha um filme de referência\n",
    "reference_movie = 'Shrek'\n",
    "\n",
    "# Encontre o índice do filme de referência no dataframe\n",
    "reference_index = movies_credits[movies_credits['original_title'] == reference_movie].index[0]\n",
    "\n",
    "# Calcule as similaridades entre o filme de referência e todos os outros filmes no dataframe\n",
    "similarities = res[reference_index]\n",
    "\n",
    "# Ordene os filmes com base na similaridade calculada\n",
    "similar_indices = similarities.argsort()[::-1]\n",
    "\n",
    "# Retorne os N filmes mais similares ao filme de referência como recomendações\n",
    "Quantidade_de_recomendacoes = 10\n",
    "recommended_movies = movies_credits.loc[similar_indices[1:Quantidade_de_recomendacoes+1], 'original_title']\n",
    "print(f'Filmes recomendados para quem gostou de {reference_movie}:')\n",
    "print(recommended_movies)\n"
   ]
  }
 ],
 "metadata": {
  "kernelspec": {
   "display_name": "Python 3",
   "language": "python",
   "name": "python3"
  },
  "language_info": {
   "codemirror_mode": {
    "name": "ipython",
    "version": 3
   },
   "file_extension": ".py",
   "mimetype": "text/x-python",
   "name": "python",
   "nbconvert_exporter": "python",
   "pygments_lexer": "ipython3",
   "version": "3.11.0"
  },
  "orig_nbformat": 4
 },
 "nbformat": 4,
 "nbformat_minor": 2
}
